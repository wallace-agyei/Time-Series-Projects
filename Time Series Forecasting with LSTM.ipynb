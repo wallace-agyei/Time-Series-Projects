{
 "cells": [
  {
   "cell_type": "code",
   "execution_count": 1,
   "metadata": {},
   "outputs": [
    {
     "name": "stderr",
     "output_type": "stream",
     "text": [
      "Using TensorFlow backend.\n"
     ]
    }
   ],
   "source": [
    "import numpy as np\n",
    "import pandas as pd\n",
    "import datetime as dt\n",
    "import matplotlib.pyplot as plt\n",
    "import seaborn as sns\n",
    "%matplotlib inline\n",
    "from sklearn.preprocessing import MinMaxScaler\n",
    "from sklearn.metrics import mean_squared_error\n",
    "import math\n",
    "from keras.models import Sequential\n",
    "from keras.layers import Dense,Dropout,Activation,LSTM\n",
    "\n",
    "plt.style.use('fivethirtyeight')\n",
    "import warnings\n",
    "warnings.filterwarnings('ignore')"
   ]
  },
  {
   "cell_type": "code",
   "execution_count": 2,
   "metadata": {},
   "outputs": [
    {
     "data": {
      "text/html": [
       "<div>\n",
       "<style scoped>\n",
       "    .dataframe tbody tr th:only-of-type {\n",
       "        vertical-align: middle;\n",
       "    }\n",
       "\n",
       "    .dataframe tbody tr th {\n",
       "        vertical-align: top;\n",
       "    }\n",
       "\n",
       "    .dataframe thead th {\n",
       "        text-align: right;\n",
       "    }\n",
       "</style>\n",
       "<table border=\"1\" class=\"dataframe\">\n",
       "  <thead>\n",
       "    <tr style=\"text-align: right;\">\n",
       "      <th></th>\n",
       "      <th>Month</th>\n",
       "      <th>Portland Oregon average monthly bus ridership (/100) January 1973 through June 1982, n=114</th>\n",
       "    </tr>\n",
       "  </thead>\n",
       "  <tbody>\n",
       "    <tr>\n",
       "      <td>0</td>\n",
       "      <td>1960-01</td>\n",
       "      <td>648</td>\n",
       "    </tr>\n",
       "    <tr>\n",
       "      <td>1</td>\n",
       "      <td>1960-02</td>\n",
       "      <td>646</td>\n",
       "    </tr>\n",
       "    <tr>\n",
       "      <td>2</td>\n",
       "      <td>1960-03</td>\n",
       "      <td>639</td>\n",
       "    </tr>\n",
       "    <tr>\n",
       "      <td>3</td>\n",
       "      <td>1960-04</td>\n",
       "      <td>654</td>\n",
       "    </tr>\n",
       "    <tr>\n",
       "      <td>4</td>\n",
       "      <td>1960-05</td>\n",
       "      <td>630</td>\n",
       "    </tr>\n",
       "    <tr>\n",
       "      <td>5</td>\n",
       "      <td>1960-06</td>\n",
       "      <td>622</td>\n",
       "    </tr>\n",
       "    <tr>\n",
       "      <td>6</td>\n",
       "      <td>1960-07</td>\n",
       "      <td>617</td>\n",
       "    </tr>\n",
       "    <tr>\n",
       "      <td>7</td>\n",
       "      <td>1960-08</td>\n",
       "      <td>613</td>\n",
       "    </tr>\n",
       "    <tr>\n",
       "      <td>8</td>\n",
       "      <td>1960-09</td>\n",
       "      <td>661</td>\n",
       "    </tr>\n",
       "    <tr>\n",
       "      <td>9</td>\n",
       "      <td>1960-10</td>\n",
       "      <td>695</td>\n",
       "    </tr>\n",
       "  </tbody>\n",
       "</table>\n",
       "</div>"
      ],
      "text/plain": [
       "     Month  \\\n",
       "0  1960-01   \n",
       "1  1960-02   \n",
       "2  1960-03   \n",
       "3  1960-04   \n",
       "4  1960-05   \n",
       "5  1960-06   \n",
       "6  1960-07   \n",
       "7  1960-08   \n",
       "8  1960-09   \n",
       "9  1960-10   \n",
       "\n",
       "  Portland Oregon average monthly bus ridership (/100) January 1973 through June 1982, n=114  \n",
       "0                                                648                                          \n",
       "1                                                646                                          \n",
       "2                                                639                                          \n",
       "3                                                654                                          \n",
       "4                                                630                                          \n",
       "5                                                622                                          \n",
       "6                                                617                                          \n",
       "7                                                613                                          \n",
       "8                                                661                                          \n",
       "9                                                695                                          "
      ]
     },
     "execution_count": 2,
     "metadata": {},
     "output_type": "execute_result"
    }
   ],
   "source": [
    "df = pd.read_csv('portland-oregon-average-monthly.csv')\n",
    "df.head(10)"
   ]
  },
  {
   "cell_type": "code",
   "execution_count": 3,
   "metadata": {},
   "outputs": [],
   "source": [
    "df.columns = ['Month', 'Avg_Ridership']"
   ]
  },
  {
   "cell_type": "code",
   "execution_count": 4,
   "metadata": {},
   "outputs": [
    {
     "data": {
      "text/html": [
       "<div>\n",
       "<style scoped>\n",
       "    .dataframe tbody tr th:only-of-type {\n",
       "        vertical-align: middle;\n",
       "    }\n",
       "\n",
       "    .dataframe tbody tr th {\n",
       "        vertical-align: top;\n",
       "    }\n",
       "\n",
       "    .dataframe thead th {\n",
       "        text-align: right;\n",
       "    }\n",
       "</style>\n",
       "<table border=\"1\" class=\"dataframe\">\n",
       "  <thead>\n",
       "    <tr style=\"text-align: right;\">\n",
       "      <th></th>\n",
       "      <th>Month</th>\n",
       "      <th>Avg_Ridership</th>\n",
       "    </tr>\n",
       "  </thead>\n",
       "  <tbody>\n",
       "    <tr>\n",
       "      <td>0</td>\n",
       "      <td>1960-01</td>\n",
       "      <td>648</td>\n",
       "    </tr>\n",
       "    <tr>\n",
       "      <td>1</td>\n",
       "      <td>1960-02</td>\n",
       "      <td>646</td>\n",
       "    </tr>\n",
       "    <tr>\n",
       "      <td>2</td>\n",
       "      <td>1960-03</td>\n",
       "      <td>639</td>\n",
       "    </tr>\n",
       "    <tr>\n",
       "      <td>3</td>\n",
       "      <td>1960-04</td>\n",
       "      <td>654</td>\n",
       "    </tr>\n",
       "    <tr>\n",
       "      <td>4</td>\n",
       "      <td>1960-05</td>\n",
       "      <td>630</td>\n",
       "    </tr>\n",
       "    <tr>\n",
       "      <td>5</td>\n",
       "      <td>1960-06</td>\n",
       "      <td>622</td>\n",
       "    </tr>\n",
       "    <tr>\n",
       "      <td>6</td>\n",
       "      <td>1960-07</td>\n",
       "      <td>617</td>\n",
       "    </tr>\n",
       "    <tr>\n",
       "      <td>7</td>\n",
       "      <td>1960-08</td>\n",
       "      <td>613</td>\n",
       "    </tr>\n",
       "    <tr>\n",
       "      <td>8</td>\n",
       "      <td>1960-09</td>\n",
       "      <td>661</td>\n",
       "    </tr>\n",
       "    <tr>\n",
       "      <td>9</td>\n",
       "      <td>1960-10</td>\n",
       "      <td>695</td>\n",
       "    </tr>\n",
       "  </tbody>\n",
       "</table>\n",
       "</div>"
      ],
      "text/plain": [
       "     Month Avg_Ridership\n",
       "0  1960-01           648\n",
       "1  1960-02           646\n",
       "2  1960-03           639\n",
       "3  1960-04           654\n",
       "4  1960-05           630\n",
       "5  1960-06           622\n",
       "6  1960-07           617\n",
       "7  1960-08           613\n",
       "8  1960-09           661\n",
       "9  1960-10           695"
      ]
     },
     "execution_count": 4,
     "metadata": {},
     "output_type": "execute_result"
    }
   ],
   "source": [
    "df.head(10)"
   ]
  },
  {
   "cell_type": "code",
   "execution_count": 5,
   "metadata": {},
   "outputs": [
    {
     "name": "stdout",
     "output_type": "stream",
     "text": [
      "<class 'pandas.core.frame.DataFrame'>\n",
      "RangeIndex: 116 entries, 0 to 115\n",
      "Data columns (total 2 columns):\n",
      "Month            115 non-null object\n",
      "Avg_Ridership    115 non-null object\n",
      "dtypes: object(2)\n",
      "memory usage: 1.9+ KB\n"
     ]
    }
   ],
   "source": [
    "df.info()"
   ]
  },
  {
   "cell_type": "code",
   "execution_count": 6,
   "metadata": {},
   "outputs": [
    {
     "data": {
      "text/plain": [
       "(116, 2)"
      ]
     },
     "execution_count": 6,
     "metadata": {},
     "output_type": "execute_result"
    }
   ],
   "source": [
    "df.shape"
   ]
  },
  {
   "cell_type": "code",
   "execution_count": 7,
   "metadata": {},
   "outputs": [
    {
     "data": {
      "text/html": [
       "<div>\n",
       "<style scoped>\n",
       "    .dataframe tbody tr th:only-of-type {\n",
       "        vertical-align: middle;\n",
       "    }\n",
       "\n",
       "    .dataframe tbody tr th {\n",
       "        vertical-align: top;\n",
       "    }\n",
       "\n",
       "    .dataframe thead th {\n",
       "        text-align: right;\n",
       "    }\n",
       "</style>\n",
       "<table border=\"1\" class=\"dataframe\">\n",
       "  <thead>\n",
       "    <tr style=\"text-align: right;\">\n",
       "      <th></th>\n",
       "      <th>Month</th>\n",
       "      <th>Avg_Ridership</th>\n",
       "    </tr>\n",
       "  </thead>\n",
       "  <tbody>\n",
       "    <tr>\n",
       "      <td>57</td>\n",
       "      <td>1964-10</td>\n",
       "      <td>1222</td>\n",
       "    </tr>\n",
       "    <tr>\n",
       "      <td>36</td>\n",
       "      <td>1963-01</td>\n",
       "      <td>1102</td>\n",
       "    </tr>\n",
       "    <tr>\n",
       "      <td>51</td>\n",
       "      <td>1964-04</td>\n",
       "      <td>1182</td>\n",
       "    </tr>\n",
       "    <tr>\n",
       "      <td>107</td>\n",
       "      <td>1968-12</td>\n",
       "      <td>1329</td>\n",
       "    </tr>\n",
       "    <tr>\n",
       "      <td>48</td>\n",
       "      <td>1964-01</td>\n",
       "      <td>1209</td>\n",
       "    </tr>\n",
       "    <tr>\n",
       "      <td>1</td>\n",
       "      <td>1960-02</td>\n",
       "      <td>646</td>\n",
       "    </tr>\n",
       "    <tr>\n",
       "      <td>78</td>\n",
       "      <td>1966-07</td>\n",
       "      <td>1341</td>\n",
       "    </tr>\n",
       "    <tr>\n",
       "      <td>27</td>\n",
       "      <td>1962-04</td>\n",
       "      <td>910</td>\n",
       "    </tr>\n",
       "    <tr>\n",
       "      <td>18</td>\n",
       "      <td>1961-07</td>\n",
       "      <td>704</td>\n",
       "    </tr>\n",
       "    <tr>\n",
       "      <td>103</td>\n",
       "      <td>1968-08</td>\n",
       "      <td>1214</td>\n",
       "    </tr>\n",
       "  </tbody>\n",
       "</table>\n",
       "</div>"
      ],
      "text/plain": [
       "       Month Avg_Ridership\n",
       "57   1964-10          1222\n",
       "36   1963-01          1102\n",
       "51   1964-04          1182\n",
       "107  1968-12          1329\n",
       "48   1964-01          1209\n",
       "1    1960-02           646\n",
       "78   1966-07          1341\n",
       "27   1962-04           910\n",
       "18   1961-07           704\n",
       "103  1968-08          1214"
      ]
     },
     "execution_count": 7,
     "metadata": {},
     "output_type": "execute_result"
    }
   ],
   "source": [
    "df.sample(10)"
   ]
  },
  {
   "cell_type": "code",
   "execution_count": 8,
   "metadata": {},
   "outputs": [
    {
     "data": {
      "text/plain": [
       "array(['648', '646', '639', '654', '630', '622', '617', '613', '661',\n",
       "       '695', '690', '707', '817', '839', '810', '789', '760', '724',\n",
       "       '704', '691', '745', '803', '780', '761', '857', '907', '873',\n",
       "       '910', '900', '880', '867', '854', '928', '1064', '1103', '1026',\n",
       "       '1102', '1080', '1034', '1083', '1078', '1020', '984', '952',\n",
       "       '1033', '1114', '1160', '1058', '1209', '1200', '1130', '1182',\n",
       "       '1152', '1116', '1098', '1044', '1142', '1222', '1234', '1155',\n",
       "       '1286', '1281', '1224', '1280', '1228', '1181', '1156', '1124',\n",
       "       '1205', '1260', '1188', '1212', '1269', '1246', '1299', '1284',\n",
       "       '1345', '1341', '1308', '1448', '1454', '1467', '1431', '1510',\n",
       "       '1558', '1536', '1523', '1492', '1437', '1365', '1310', '1441',\n",
       "       '1450', '1424', '1360', '1429', '1440', '1414', '1408', '1337',\n",
       "       '1258', '1214', '1326', '1417', '1329', '1461', '1425', '1419',\n",
       "       '1432', '1394', '1327', nan, ' n=114'], dtype=object)"
      ]
     },
     "execution_count": 8,
     "metadata": {},
     "output_type": "execute_result"
    }
   ],
   "source": [
    "df.Avg_Ridership.unique()"
   ]
  },
  {
   "cell_type": "code",
   "execution_count": 9,
   "metadata": {},
   "outputs": [],
   "source": [
    "df.Avg_Ridership = df.Avg_Ridership.replace(' n=114',np.nan)"
   ]
  },
  {
   "cell_type": "code",
   "execution_count": 10,
   "metadata": {},
   "outputs": [],
   "source": [
    "df = df.dropna()"
   ]
  },
  {
   "cell_type": "code",
   "execution_count": 11,
   "metadata": {},
   "outputs": [
    {
     "data": {
      "text/plain": [
       "array(['648', '646', '639', '654', '630', '622', '617', '613', '661',\n",
       "       '695', '690', '707', '817', '839', '810', '789', '760', '724',\n",
       "       '704', '691', '745', '803', '780', '761', '857', '907', '873',\n",
       "       '910', '900', '880', '867', '854', '928', '1064', '1103', '1026',\n",
       "       '1102', '1080', '1034', '1083', '1078', '1020', '984', '952',\n",
       "       '1033', '1114', '1160', '1058', '1209', '1200', '1130', '1182',\n",
       "       '1152', '1116', '1098', '1044', '1142', '1222', '1234', '1155',\n",
       "       '1286', '1281', '1224', '1280', '1228', '1181', '1156', '1124',\n",
       "       '1205', '1260', '1188', '1212', '1269', '1246', '1299', '1284',\n",
       "       '1345', '1341', '1308', '1448', '1454', '1467', '1431', '1510',\n",
       "       '1558', '1536', '1523', '1492', '1437', '1365', '1310', '1441',\n",
       "       '1450', '1424', '1360', '1429', '1440', '1414', '1408', '1337',\n",
       "       '1258', '1214', '1326', '1417', '1329', '1461', '1425', '1419',\n",
       "       '1432', '1394', '1327'], dtype=object)"
      ]
     },
     "execution_count": 11,
     "metadata": {},
     "output_type": "execute_result"
    }
   ],
   "source": [
    "df['Avg_Ridership'].unique()"
   ]
  },
  {
   "cell_type": "code",
   "execution_count": 12,
   "metadata": {},
   "outputs": [],
   "source": [
    "df['Avg_Ridership'] = pd.to_numeric(df['Avg_Ridership'])"
   ]
  },
  {
   "cell_type": "code",
   "execution_count": 13,
   "metadata": {},
   "outputs": [
    {
     "data": {
      "image/png": "[encoded data removed]",
      "text/plain": [
       "<Figure size 864x720 with 1 Axes>"
      ]
     },
     "metadata": {
      "needs_background": "light"
     },
     "output_type": "display_data"
    }
   ],
   "source": [
    "plt.figure(figsize=(12,10))\n",
    "plt.plot(df.Avg_Ridership)\n",
    "plt.show()"
   ]
  },
  {
   "cell_type": "code",
   "execution_count": 14,
   "metadata": {},
   "outputs": [
    {
     "data": {
      "text/plain": [
       "array([[648],\n",
       "       [646],\n",
       "       [639],\n",
       "       [654],\n",
       "       [630],\n",
       "       [622],\n",
       "       [617],\n",
       "       [613],\n",
       "       [661],\n",
       "       [695]], dtype=int64)"
      ]
     },
     "execution_count": 14,
     "metadata": {},
     "output_type": "execute_result"
    }
   ],
   "source": [
    "df = df['Avg_Ridership'].values\n",
    "df = np.array(df).reshape(-1,1)\n",
    "df[:10]"
   ]
  },
  {
   "cell_type": "code",
   "execution_count": 15,
   "metadata": {},
   "outputs": [],
   "source": [
    "sc = MinMaxScaler(feature_range=(0,1))\n",
    "dataset = sc.fit_transform(df)"
   ]
  },
  {
   "cell_type": "code",
   "execution_count": 16,
   "metadata": {},
   "outputs": [
    {
     "data": {
      "text/plain": [
       "array([[0.03703704],\n",
       "       [0.03492063],\n",
       "       [0.02751323],\n",
       "       [0.04338624],\n",
       "       [0.01798942],\n",
       "       [0.00952381],\n",
       "       [0.0042328 ],\n",
       "       [0.        ],\n",
       "       [0.05079365],\n",
       "       [0.08677249]])"
      ]
     },
     "execution_count": 16,
     "metadata": {},
     "output_type": "execute_result"
    }
   ],
   "source": [
    "dataset[0:10]"
   ]
  },
  {
   "cell_type": "code",
   "execution_count": 17,
   "metadata": {},
   "outputs": [
    {
     "name": "stdout",
     "output_type": "stream",
     "text": [
      "75 39\n"
     ]
    }
   ],
   "source": [
    "# Split into train and test sets\n",
    "train_size = int(len(dataset) * 0.66)\n",
    "test_size = len(dataset) - train_size\n",
    "train, test = dataset[0:train_size,:], dataset[train_size: len(dataset),:]\n",
    "print(len(train), len(test))"
   ]
  },
  {
   "cell_type": "code",
   "execution_count": 18,
   "metadata": {},
   "outputs": [],
   "source": [
    "def create_dataset(S, look_back=1):\n",
    "    dataX, dataY = [], []\n",
    "    for i in range(len(S)-look_back-1):\n",
    "        dataX.append(S[i:(i+look_back), 0])\n",
    "        dataY.append(S[i + look_back, 0])\n",
    "    return np.array(dataX), np.array(dataY)"
   ]
  },
  {
   "cell_type": "code",
   "execution_count": 19,
   "metadata": {},
   "outputs": [
    {
     "data": {
      "text/plain": [
       "((73, 1), (73,))"
      ]
     },
     "execution_count": 19,
     "metadata": {},
     "output_type": "execute_result"
    }
   ],
   "source": [
    "xtrain,ytrain = create_dataset(train, look_back=1)\n",
    "xtrain.shape,ytrain.shape"
   ]
  },
  {
   "cell_type": "code",
   "execution_count": 20,
   "metadata": {},
   "outputs": [
    {
     "data": {
      "text/plain": [
       "((37, 1), (37,))"
      ]
     },
     "execution_count": 20,
     "metadata": {},
     "output_type": "execute_result"
    }
   ],
   "source": [
    "xtest,ytest = create_dataset(test, look_back=1)\n",
    "xtest.shape,ytest.shape"
   ]
  },
  {
   "cell_type": "code",
   "execution_count": 21,
   "metadata": {},
   "outputs": [],
   "source": [
    "xtrain = np.reshape(xtrain, (xtrain.shape[0], 1, xtrain.shape[1]))\n",
    "xtest= np.reshape(xtest, (xtest.shape[0], 1, xtest.shape[1]))"
   ]
  },
  {
   "cell_type": "code",
   "execution_count": 22,
   "metadata": {},
   "outputs": [
    {
     "name": "stdout",
     "output_type": "stream",
     "text": [
      "Train on 73 samples, validate on 37 samples\n",
      "Epoch 1/100\n",
      " - 4s - loss: 0.1078 - val_loss: 0.2452\n",
      "Epoch 2/100\n",
      " - 0s - loss: 0.0306 - val_loss: 0.0707\n",
      "Epoch 3/100\n",
      " - 0s - loss: 0.0200 - val_loss: 0.0588\n",
      "Epoch 4/100\n",
      " - 0s - loss: 0.0167 - val_loss: 0.0417\n",
      "Epoch 5/100\n",
      " - 0s - loss: 0.0132 - val_loss: 0.0298\n",
      "Epoch 6/100\n",
      " - 0s - loss: 0.0110 - val_loss: 0.0194\n",
      "Epoch 7/100\n",
      " - 0s - loss: 0.0092 - val_loss: 0.0150\n",
      "Epoch 8/100\n",
      " - 0s - loss: 0.0067 - val_loss: 0.0088\n",
      "Epoch 9/100\n",
      " - 0s - loss: 0.0057 - val_loss: 0.0058\n",
      "Epoch 10/100\n",
      " - 0s - loss: 0.0051 - val_loss: 0.0072\n",
      "Epoch 11/100\n",
      " - 1s - loss: 0.0044 - val_loss: 0.0047\n",
      "Epoch 12/100\n",
      " - 0s - loss: 0.0041 - val_loss: 0.0043\n",
      "Epoch 13/100\n",
      " - 0s - loss: 0.0039 - val_loss: 0.0043\n",
      "Epoch 14/100\n",
      " - 0s - loss: 0.0046 - val_loss: 0.0044\n",
      "Epoch 15/100\n",
      " - 0s - loss: 0.0040 - val_loss: 0.0044\n",
      "Epoch 16/100\n",
      " - 0s - loss: 0.0045 - val_loss: 0.0047\n",
      "Epoch 17/100\n",
      " - 0s - loss: 0.0038 - val_loss: 0.0045\n",
      "Epoch 18/100\n",
      " - 0s - loss: 0.0043 - val_loss: 0.0046\n",
      "Epoch 19/100\n",
      " - 0s - loss: 0.0041 - val_loss: 0.0061\n",
      "Epoch 20/100\n",
      " - 0s - loss: 0.0053 - val_loss: 0.0044\n",
      "Epoch 21/100\n",
      " - 0s - loss: 0.0039 - val_loss: 0.0044\n",
      "Epoch 22/100\n",
      " - 0s - loss: 0.0042 - val_loss: 0.0044\n",
      "Epoch 23/100\n",
      " - 0s - loss: 0.0043 - val_loss: 0.0044\n",
      "Epoch 24/100\n",
      " - 0s - loss: 0.0037 - val_loss: 0.0049\n",
      "Epoch 25/100\n",
      " - 0s - loss: 0.0048 - val_loss: 0.0045\n",
      "Epoch 26/100\n",
      " - 0s - loss: 0.0045 - val_loss: 0.0045\n",
      "Epoch 27/100\n",
      " - 0s - loss: 0.0041 - val_loss: 0.0047\n",
      "Epoch 28/100\n",
      " - 0s - loss: 0.0044 - val_loss: 0.0051\n",
      "Epoch 29/100\n",
      " - 0s - loss: 0.0042 - val_loss: 0.0052\n",
      "Epoch 30/100\n",
      " - 0s - loss: 0.0043 - val_loss: 0.0046\n",
      "Epoch 31/100\n",
      " - 0s - loss: 0.0041 - val_loss: 0.0056\n",
      "Epoch 32/100\n",
      " - 0s - loss: 0.0038 - val_loss: 0.0044\n",
      "Epoch 33/100\n",
      " - 0s - loss: 0.0041 - val_loss: 0.0044\n",
      "Epoch 34/100\n",
      " - 0s - loss: 0.0036 - val_loss: 0.0043\n",
      "Epoch 35/100\n",
      " - 0s - loss: 0.0043 - val_loss: 0.0066\n",
      "Epoch 36/100\n",
      " - 0s - loss: 0.0045 - val_loss: 0.0046\n",
      "Epoch 37/100\n",
      " - 0s - loss: 0.0042 - val_loss: 0.0045\n",
      "Epoch 38/100\n",
      " - 0s - loss: 0.0036 - val_loss: 0.0045\n",
      "Epoch 39/100\n",
      " - 0s - loss: 0.0043 - val_loss: 0.0043\n",
      "Epoch 40/100\n",
      " - 0s - loss: 0.0038 - val_loss: 0.0044\n",
      "Epoch 41/100\n",
      " - 0s - loss: 0.0046 - val_loss: 0.0044\n",
      "Epoch 42/100\n",
      " - 0s - loss: 0.0048 - val_loss: 0.0043\n",
      "Epoch 43/100\n",
      " - 0s - loss: 0.0037 - val_loss: 0.0044\n",
      "Epoch 44/100\n",
      " - 1s - loss: 0.0041 - val_loss: 0.0045\n",
      "Epoch 45/100\n",
      " - 0s - loss: 0.0039 - val_loss: 0.0044\n",
      "Epoch 46/100\n",
      " - 0s - loss: 0.0036 - val_loss: 0.0046\n",
      "Epoch 47/100\n",
      " - 0s - loss: 0.0042 - val_loss: 0.0045\n",
      "Epoch 48/100\n",
      " - 0s - loss: 0.0044 - val_loss: 0.0045\n",
      "Epoch 49/100\n",
      " - 0s - loss: 0.0035 - val_loss: 0.0049\n",
      "Epoch 50/100\n",
      " - 0s - loss: 0.0047 - val_loss: 0.0044\n",
      "Epoch 51/100\n",
      " - 0s - loss: 0.0042 - val_loss: 0.0043\n",
      "Epoch 52/100\n",
      " - 0s - loss: 0.0041 - val_loss: 0.0047\n",
      "Epoch 53/100\n",
      " - 0s - loss: 0.0041 - val_loss: 0.0044\n",
      "Epoch 54/100\n",
      " - 0s - loss: 0.0039 - val_loss: 0.0042\n",
      "Epoch 55/100\n",
      " - 0s - loss: 0.0041 - val_loss: 0.0046\n",
      "Epoch 56/100\n",
      " - 0s - loss: 0.0039 - val_loss: 0.0045\n",
      "Epoch 57/100\n",
      " - 0s - loss: 0.0034 - val_loss: 0.0044\n",
      "Epoch 58/100\n",
      " - 0s - loss: 0.0042 - val_loss: 0.0057\n",
      "Epoch 59/100\n",
      " - 0s - loss: 0.0045 - val_loss: 0.0051\n",
      "Epoch 60/100\n",
      " - 0s - loss: 0.0038 - val_loss: 0.0042\n",
      "Epoch 61/100\n",
      " - 0s - loss: 0.0035 - val_loss: 0.0043\n",
      "Epoch 62/100\n",
      " - 0s - loss: 0.0042 - val_loss: 0.0047\n",
      "Epoch 63/100\n",
      " - 0s - loss: 0.0039 - val_loss: 0.0047\n",
      "Epoch 64/100\n",
      " - 0s - loss: 0.0035 - val_loss: 0.0044\n",
      "Epoch 65/100\n",
      " - 0s - loss: 0.0038 - val_loss: 0.0042\n",
      "Epoch 66/100\n",
      " - 0s - loss: 0.0038 - val_loss: 0.0043\n",
      "Epoch 67/100\n",
      " - 0s - loss: 0.0038 - val_loss: 0.0045\n",
      "Epoch 68/100\n",
      " - 0s - loss: 0.0036 - val_loss: 0.0045\n",
      "Epoch 69/100\n",
      " - 0s - loss: 0.0041 - val_loss: 0.0042\n",
      "Epoch 70/100\n",
      " - 0s - loss: 0.0041 - val_loss: 0.0050\n",
      "Epoch 71/100\n",
      " - 0s - loss: 0.0044 - val_loss: 0.0047\n",
      "Epoch 72/100\n",
      " - 0s - loss: 0.0041 - val_loss: 0.0041\n",
      "Epoch 73/100\n",
      " - 0s - loss: 0.0042 - val_loss: 0.0042\n",
      "Epoch 74/100\n",
      " - 0s - loss: 0.0040 - val_loss: 0.0042\n",
      "Epoch 75/100\n",
      " - 0s - loss: 0.0036 - val_loss: 0.0042\n",
      "Epoch 76/100\n",
      " - 0s - loss: 0.0039 - val_loss: 0.0045\n",
      "Epoch 77/100\n",
      " - 0s - loss: 0.0039 - val_loss: 0.0057\n",
      "Epoch 78/100\n",
      " - 0s - loss: 0.0036 - val_loss: 0.0048\n",
      "Epoch 79/100\n",
      " - 0s - loss: 0.0041 - val_loss: 0.0042\n",
      "Epoch 80/100\n",
      " - 0s - loss: 0.0041 - val_loss: 0.0049\n",
      "Epoch 81/100\n",
      " - 0s - loss: 0.0042 - val_loss: 0.0049\n",
      "Epoch 82/100\n",
      " - 0s - loss: 0.0041 - val_loss: 0.0044\n",
      "Epoch 83/100\n",
      " - 0s - loss: 0.0040 - val_loss: 0.0055\n",
      "Epoch 84/100\n",
      " - 0s - loss: 0.0039 - val_loss: 0.0061\n",
      "Epoch 85/100\n",
      " - 0s - loss: 0.0037 - val_loss: 0.0050\n",
      "Epoch 86/100\n",
      " - 0s - loss: 0.0043 - val_loss: 0.0041\n",
      "Epoch 87/100\n",
      " - 0s - loss: 0.0043 - val_loss: 0.0041\n",
      "Epoch 88/100\n",
      " - 0s - loss: 0.0037 - val_loss: 0.0051\n",
      "Epoch 89/100\n",
      " - 0s - loss: 0.0039 - val_loss: 0.0041\n",
      "Epoch 90/100\n",
      " - 0s - loss: 0.0038 - val_loss: 0.0041\n",
      "Epoch 91/100\n",
      " - 1s - loss: 0.0042 - val_loss: 0.0041\n",
      "Epoch 92/100\n",
      " - 0s - loss: 0.0037 - val_loss: 0.0044\n",
      "Epoch 93/100\n",
      " - 0s - loss: 0.0035 - val_loss: 0.0041\n",
      "Epoch 94/100\n",
      " - 1s - loss: 0.0038 - val_loss: 0.0041\n",
      "Epoch 95/100\n",
      " - 0s - loss: 0.0036 - val_loss: 0.0041\n",
      "Epoch 96/100\n",
      " - 0s - loss: 0.0040 - val_loss: 0.0041\n",
      "Epoch 97/100\n",
      " - 0s - loss: 0.0040 - val_loss: 0.0043\n",
      "Epoch 98/100\n",
      " - 0s - loss: 0.0043 - val_loss: 0.0054\n",
      "Epoch 99/100\n",
      " - 0s - loss: 0.0038 - val_loss: 0.0044\n",
      "Epoch 100/100\n",
      " - 0s - loss: 0.0042 - val_loss: 0.0057\n"
     ]
    }
   ],
   "source": [
    "look_back = 1\n",
    "model = Sequential()\n",
    "model.add(LSTM(128, input_shape=(1, look_back)))\n",
    "model.add(Dropout(0.2))\n",
    "model.add(Dense(1))\n",
    "model.compile(loss='mean_squared_error', optimizer='adam')\n",
    "history = model.fit(xtrain, ytrain, epochs=100, batch_size=2,validation_data=(xtest,ytest), verbose=2)"
   ]
  },
  {
   "cell_type": "code",
   "execution_count": 23,
   "metadata": {},
   "outputs": [
    {
     "data": {
      "image/png": "[encoded data removed]",
      "text/plain": [
       "<Figure size 864x720 with 1 Axes>"
      ]
     },
     "metadata": {
      "needs_background": "light"
     },
     "output_type": "display_data"
    }
   ],
   "source": [
    "plt.figure(figsize = (12,10))\n",
    "plt.plot(history.history['loss'], label='train')\n",
    "plt.plot(history.history['val_loss'], label='test')\n",
    "plt.legend()\n",
    "plt.show()"
   ]
  },
  {
   "cell_type": "code",
   "execution_count": 24,
   "metadata": {},
   "outputs": [
    {
     "data": {
      "text/plain": [
       "array([[1267.5514],\n",
       "       [1253.3727],\n",
       "       [1311.0264],\n",
       "       [1307.2463],\n",
       "       [1276.0581],\n",
       "       [1408.3029],\n",
       "       [1413.9652],\n",
       "       [1426.2313],\n",
       "       [1392.2568],\n",
       "       [1466.7817]], dtype=float32)"
      ]
     },
     "execution_count": 24,
     "metadata": {},
     "output_type": "execute_result"
    }
   ],
   "source": [
    "pred = model.predict(xtest)\n",
    "pred = sc.inverse_transform(pred)\n",
    "pred[:10]"
   ]
  },
  {
   "cell_type": "code",
   "execution_count": 25,
   "metadata": {},
   "outputs": [
    {
     "data": {
      "text/plain": [
       "array([[1284.],\n",
       "       [1345.],\n",
       "       [1341.],\n",
       "       [1308.],\n",
       "       [1448.],\n",
       "       [1454.],\n",
       "       [1467.],\n",
       "       [1431.],\n",
       "       [1510.],\n",
       "       [1558.]])"
      ]
     },
     "execution_count": 25,
     "metadata": {},
     "output_type": "execute_result"
    }
   ],
   "source": [
    "ytest = np.array(ytest).reshape(-1,1)\n",
    "ytest = sc.inverse_transform(ytest)\n",
    "ytest[:10]"
   ]
  },
  {
   "cell_type": "code",
   "execution_count": 26,
   "metadata": {},
   "outputs": [
    {
     "data": {
      "text/plain": [
       "<matplotlib.legend.Legend at 0x254d266a448>"
      ]
     },
     "execution_count": 26,
     "metadata": {},
     "output_type": "execute_result"
    },
    {
     "data": {
      "image/png": "[encoded data removed]",
      "text/plain": [
       "<Figure size 864x720 with 1 Axes>"
      ]
     },
     "metadata": {
      "needs_background": "light"
     },
     "output_type": "display_data"
    }
   ],
   "source": [
    "plt.figure(figsize = (12,10))\n",
    "plt.plot(ytest, label ='Actual')\n",
    "plt.plot(pred, label ='Predicted')\n",
    "plt.legend()"
   ]
  },
  {
   "cell_type": "code",
   "execution_count": null,
   "metadata": {},
   "outputs": [],
   "source": []
  }
 ],
 "metadata": {
  "kernelspec": {
   "display_name": "Python 3",
   "language": "python",
   "name": "python3"
  },
  "language_info": {
   "codemirror_mode": {
    "name": "ipython",
    "version": 3
   },
   "file_extension": ".py",
   "mimetype": "text/x-python",
   "name": "python",
   "nbconvert_exporter": "python",
   "pygments_lexer": "ipython3",
   "version": "3.7.4"
  }
 },
 "nbformat": 4,
 "nbformat_minor": 2
}
